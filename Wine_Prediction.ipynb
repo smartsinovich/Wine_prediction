{
  "nbformat": 4,
  "nbformat_minor": 0,
  "metadata": {
    "colab": {
      "name": "Wine_Prediction_ABBYY_NLP.ipynb",
      "version": "0.3.2",
      "provenance": [],
      "collapsed_sections": []
    },
    "kernelspec": {
      "name": "python3",
      "display_name": "Python 3"
    }
  },
  "cells": [
    {
      "cell_type": "markdown",
      "metadata": {
        "id": "sm5Er68KEgCe",
        "colab_type": "text"
      },
      "source": [
        "---\n",
        "\n",
        "Тестовое задание ABBYY (NLP)\n",
        "\n",
        "---\n",
        "\n",
        "\n",
        "Выполнила: Софья Марцинович\n",
        "\n",
        "---"
      ]
    },
    {
      "cell_type": "markdown",
      "metadata": {
        "id": "Zbzq4TkwDzBi",
        "colab_type": "text"
      },
      "source": [
        "## Формулировка задания"
      ]
    },
    {
      "cell_type": "markdown",
      "metadata": {
        "id": "Wx6zh0JuDBDP",
        "colab_type": "text"
      },
      "source": [
        "Входные данные содержат данные по химическому составу вина. Нужно угадать качество – оценку, поставленную экспертами на основании вкусовых ощущений.\n",
        "\n",
        "***Data fields***\n",
        "\n",
        "* **fixed acidity**\n",
        "most acids involved with wine or fixed or nonvolatile (do not evaporate readily)\n",
        "* **volatile acidity**\n",
        "the amount of acetic acid in wine, which at too high of levels can lead to an unpleasant, vinegar taste\n",
        "* **citric acid**\n",
        "found in small quantities, citric acid can add 'freshness' and flavor to wines\n",
        "* **residual sugar**\n",
        "the amount of sugar remaining after fermentation stops, it's rare to find wines with less than 1 gram/liter and wines with greater than 45 grams/liter are considered sweet\n",
        "* **chlorides**\n",
        "the amount of salt in the wine\n",
        "* **free sulfur dioxide**\n",
        "the free form of SO2 exists in equilibrium between molecular SO2 (as a dissolved gas) and bisulfite ion; it prevents microbial growth and the oxidation of wine\n",
        "* **total sulfur dioxide**\n",
        "amount of free and bound forms of S02; in low concentrations, SO2 is mostly undetectable in wine, but at free SO2 concentrations over 50 ppm, SO2 becomes evident in the nose and taste of wine\n",
        "* **density**\n",
        "the density of water is close to that of water depending on the percent alcohol and sugar content\n",
        "* **pH**\n",
        "describes how acidic or basic a wine is on a scale from 0 (very acidic) to 14 (very basic); most wines are between 3-4 on the pH scale\n",
        "* **sulphates**\n",
        "a wine additive which can contribute to sulfur dioxide gas (S02) levels, wich acts as an antimicrobial and antioxidant\n",
        "* **alcohol**\n",
        "the percent alcohol content of the wine\n",
        "* **quality**\n",
        "output variable (based on sensory data, score between 0 and 10)\n"
      ]
    },
    {
      "cell_type": "markdown",
      "metadata": {
        "id": "PzYXE2-h1v_G",
        "colab_type": "text"
      },
      "source": [
        "\n",
        "\n",
        "---\n",
        "\n"
      ]
    },
    {
      "cell_type": "markdown",
      "metadata": {
        "id": "I4OVmqQP1seM",
        "colab_type": "text"
      },
      "source": [
        "## Подготовка к работе"
      ]
    },
    {
      "cell_type": "code",
      "metadata": {
        "id": "pB5oAIzzSGPK",
        "colab_type": "code",
        "colab": {}
      },
      "source": [
        "### Первостепенной важности\n",
        "import pandas as pd\n",
        "import numpy as np\n",
        "\n",
        "### Графические библиотеки\n",
        "import matplotlib.pyplot as plt\n",
        "import seaborn as sns \n",
        "\n",
        "### Средства Scikit-learn\n",
        "from sklearn.model_selection import train_test_split\n",
        "from sklearn.preprocessing import LabelEncoder\n",
        "from sklearn.preprocessing import StandardScaler\n",
        "\n",
        "\n",
        "### Metrics\n",
        "from sklearn import metrics\n",
        "from sklearn.metrics import confusion_matrix, accuracy_score, classification_report\n",
        "\n",
        "### Модели\n",
        "from sklearn.svm import SVC\n",
        "from sklearn.linear_model import LogisticRegression\n",
        "from sklearn.tree import DecisionTreeClassifier\n",
        "from sklearn.ensemble import RandomForestClassifier\n",
        "from sklearn.naive_bayes import GaussianNB\n"
      ],
      "execution_count": 0,
      "outputs": []
    },
    {
      "cell_type": "markdown",
      "metadata": {
        "id": "kX214kvVzkjf",
        "colab_type": "text"
      },
      "source": [
        "\n",
        "\n",
        "---\n",
        "\n"
      ]
    },
    {
      "cell_type": "markdown",
      "metadata": {
        "id": "y9DZ1viPGOUK",
        "colab_type": "text"
      },
      "source": [
        "## Просмотр данных"
      ]
    },
    {
      "cell_type": "markdown",
      "metadata": {
        "id": "gWaDXfldGoN4",
        "colab_type": "text"
      },
      "source": [
        "Загружаем данные:"
      ]
    },
    {
      "cell_type": "code",
      "metadata": {
        "id": "v-aZunTZFo1R",
        "colab_type": "code",
        "colab": {}
      },
      "source": [
        "wines=pd.read_csv('winequality-red.csv', sep='\\;', engine='python')"
      ],
      "execution_count": 0,
      "outputs": []
    },
    {
      "cell_type": "markdown",
      "metadata": {
        "id": "NT1-bSpYGsF-",
        "colab_type": "text"
      },
      "source": [
        "Выводим несколько строк датафрейма для просмотра:"
      ]
    },
    {
      "cell_type": "code",
      "metadata": {
        "id": "vs074IEcFuUy",
        "colab_type": "code",
        "outputId": "217fd14b-2667-4d1c-846b-94746c813c75",
        "colab": {
          "base_uri": "https://localhost:8080/",
          "height": 221
        }
      },
      "source": [
        "wines.head()"
      ],
      "execution_count": 0,
      "outputs": [
        {
          "output_type": "execute_result",
          "data": {
            "text/html": [
              "<div>\n",
              "<style scoped>\n",
              "    .dataframe tbody tr th:only-of-type {\n",
              "        vertical-align: middle;\n",
              "    }\n",
              "\n",
              "    .dataframe tbody tr th {\n",
              "        vertical-align: top;\n",
              "    }\n",
              "\n",
              "    .dataframe thead th {\n",
              "        text-align: right;\n",
              "    }\n",
              "</style>\n",
              "<table border=\"1\" class=\"dataframe\">\n",
              "  <thead>\n",
              "    <tr style=\"text-align: right;\">\n",
              "      <th></th>\n",
              "      <th>\"fixed acidity\"</th>\n",
              "      <th>\"volatile acidity\"</th>\n",
              "      <th>\"citric acid\"</th>\n",
              "      <th>\"residual sugar\"</th>\n",
              "      <th>\"chlorides\"</th>\n",
              "      <th>\"free sulfur dioxide\"</th>\n",
              "      <th>\"total sulfur dioxide\"</th>\n",
              "      <th>\"density\"</th>\n",
              "      <th>\"pH\"</th>\n",
              "      <th>\"sulphates\"</th>\n",
              "      <th>\"alcohol\"</th>\n",
              "      <th>\"quality\"</th>\n",
              "    </tr>\n",
              "  </thead>\n",
              "  <tbody>\n",
              "    <tr>\n",
              "      <th>0</th>\n",
              "      <td>7.4</td>\n",
              "      <td>0.70</td>\n",
              "      <td>0.00</td>\n",
              "      <td>1.9</td>\n",
              "      <td>0.076</td>\n",
              "      <td>11.0</td>\n",
              "      <td>34.0</td>\n",
              "      <td>0.9978</td>\n",
              "      <td>3.51</td>\n",
              "      <td>0.56</td>\n",
              "      <td>9.4</td>\n",
              "      <td>5</td>\n",
              "    </tr>\n",
              "    <tr>\n",
              "      <th>1</th>\n",
              "      <td>7.8</td>\n",
              "      <td>0.88</td>\n",
              "      <td>0.00</td>\n",
              "      <td>2.6</td>\n",
              "      <td>0.098</td>\n",
              "      <td>25.0</td>\n",
              "      <td>67.0</td>\n",
              "      <td>0.9968</td>\n",
              "      <td>3.20</td>\n",
              "      <td>0.68</td>\n",
              "      <td>9.8</td>\n",
              "      <td>5</td>\n",
              "    </tr>\n",
              "    <tr>\n",
              "      <th>2</th>\n",
              "      <td>7.8</td>\n",
              "      <td>0.76</td>\n",
              "      <td>0.04</td>\n",
              "      <td>2.3</td>\n",
              "      <td>0.092</td>\n",
              "      <td>15.0</td>\n",
              "      <td>54.0</td>\n",
              "      <td>0.9970</td>\n",
              "      <td>3.26</td>\n",
              "      <td>0.65</td>\n",
              "      <td>9.8</td>\n",
              "      <td>5</td>\n",
              "    </tr>\n",
              "    <tr>\n",
              "      <th>3</th>\n",
              "      <td>11.2</td>\n",
              "      <td>0.28</td>\n",
              "      <td>0.56</td>\n",
              "      <td>1.9</td>\n",
              "      <td>0.075</td>\n",
              "      <td>17.0</td>\n",
              "      <td>60.0</td>\n",
              "      <td>0.9980</td>\n",
              "      <td>3.16</td>\n",
              "      <td>0.58</td>\n",
              "      <td>9.8</td>\n",
              "      <td>6</td>\n",
              "    </tr>\n",
              "    <tr>\n",
              "      <th>4</th>\n",
              "      <td>7.4</td>\n",
              "      <td>0.70</td>\n",
              "      <td>0.00</td>\n",
              "      <td>1.9</td>\n",
              "      <td>0.076</td>\n",
              "      <td>11.0</td>\n",
              "      <td>34.0</td>\n",
              "      <td>0.9978</td>\n",
              "      <td>3.51</td>\n",
              "      <td>0.56</td>\n",
              "      <td>9.4</td>\n",
              "      <td>5</td>\n",
              "    </tr>\n",
              "  </tbody>\n",
              "</table>\n",
              "</div>"
            ],
            "text/plain": [
              "   \"fixed acidity\"  \"volatile acidity\"  \"citric acid\"  \"residual sugar\"  \\\n",
              "0              7.4                0.70           0.00               1.9   \n",
              "1              7.8                0.88           0.00               2.6   \n",
              "2              7.8                0.76           0.04               2.3   \n",
              "3             11.2                0.28           0.56               1.9   \n",
              "4              7.4                0.70           0.00               1.9   \n",
              "\n",
              "   \"chlorides\"  \"free sulfur dioxide\"  \"total sulfur dioxide\"  \"density\"  \\\n",
              "0        0.076                   11.0                    34.0     0.9978   \n",
              "1        0.098                   25.0                    67.0     0.9968   \n",
              "2        0.092                   15.0                    54.0     0.9970   \n",
              "3        0.075                   17.0                    60.0     0.9980   \n",
              "4        0.076                   11.0                    34.0     0.9978   \n",
              "\n",
              "   \"pH\"  \"sulphates\"  \"alcohol\"  \"quality\"  \n",
              "0  3.51         0.56        9.4          5  \n",
              "1  3.20         0.68        9.8          5  \n",
              "2  3.26         0.65        9.8          5  \n",
              "3  3.16         0.58        9.8          6  \n",
              "4  3.51         0.56        9.4          5  "
            ]
          },
          "metadata": {
            "tags": []
          },
          "execution_count": 68
        }
      ]
    },
    {
      "cell_type": "markdown",
      "metadata": {
        "id": "MylVyXIlGz5N",
        "colab_type": "text"
      },
      "source": [
        "Размеры датафрейма:"
      ]
    },
    {
      "cell_type": "code",
      "metadata": {
        "id": "sliyymYzFy3D",
        "colab_type": "code",
        "outputId": "40222224-ec63-4ee9-89cf-2a631d34fb93",
        "colab": {
          "base_uri": "https://localhost:8080/",
          "height": 34
        }
      },
      "source": [
        "wines.shape"
      ],
      "execution_count": 0,
      "outputs": [
        {
          "output_type": "execute_result",
          "data": {
            "text/plain": [
              "(1599, 12)"
            ]
          },
          "metadata": {
            "tags": []
          },
          "execution_count": 69
        }
      ]
    },
    {
      "cell_type": "markdown",
      "metadata": {
        "id": "1ELLExcIG4MY",
        "colab_type": "text"
      },
      "source": [
        "Более подробная информация о содержимом датафрейма:"
      ]
    },
    {
      "cell_type": "code",
      "metadata": {
        "id": "uF5rfQcjF4q3",
        "colab_type": "code",
        "outputId": "0729ac06-132b-4ec0-eeb4-ad049420bdb2",
        "colab": {
          "base_uri": "https://localhost:8080/",
          "height": 306
        }
      },
      "source": [
        "wines.info()"
      ],
      "execution_count": 0,
      "outputs": [
        {
          "output_type": "stream",
          "text": [
            "<class 'pandas.core.frame.DataFrame'>\n",
            "RangeIndex: 1599 entries, 0 to 1598\n",
            "Data columns (total 12 columns):\n",
            "\"fixed acidity\"           1599 non-null float64\n",
            "\"volatile acidity\"        1599 non-null float64\n",
            "\"citric acid\"             1599 non-null float64\n",
            "\"residual sugar\"          1599 non-null float64\n",
            "\"chlorides\"               1599 non-null float64\n",
            "\"free sulfur dioxide\"     1599 non-null float64\n",
            "\"total sulfur dioxide\"    1599 non-null float64\n",
            "\"density\"                 1599 non-null float64\n",
            "\"pH\"                      1599 non-null float64\n",
            "\"sulphates\"               1599 non-null float64\n",
            "\"alcohol\"                 1599 non-null float64\n",
            "\"quality\"                 1599 non-null int64\n",
            "dtypes: float64(11), int64(1)\n",
            "memory usage: 150.0 KB\n"
          ],
          "name": "stdout"
        }
      ]
    },
    {
      "cell_type": "markdown",
      "metadata": {
        "id": "rq4nAudaG96e",
        "colab_type": "text"
      },
      "source": [
        "Посчитаем, сколько нечитаемых(\"non available\", \"na\") значений в каждом столбце:"
      ]
    },
    {
      "cell_type": "code",
      "metadata": {
        "id": "nb713T7-F96n",
        "colab_type": "code",
        "outputId": "647237b2-927c-48c3-ea0a-32869ad6520a",
        "colab": {
          "base_uri": "https://localhost:8080/",
          "height": 238
        }
      },
      "source": [
        "wines.isna().sum()"
      ],
      "execution_count": 0,
      "outputs": [
        {
          "output_type": "execute_result",
          "data": {
            "text/plain": [
              "\"fixed acidity\"           0\n",
              "\"volatile acidity\"        0\n",
              "\"citric acid\"             0\n",
              "\"residual sugar\"          0\n",
              "\"chlorides\"               0\n",
              "\"free sulfur dioxide\"     0\n",
              "\"total sulfur dioxide\"    0\n",
              "\"density\"                 0\n",
              "\"pH\"                      0\n",
              "\"sulphates\"               0\n",
              "\"alcohol\"                 0\n",
              "\"quality\"                 0\n",
              "dtype: int64"
            ]
          },
          "metadata": {
            "tags": []
          },
          "execution_count": 71
        }
      ]
    },
    {
      "cell_type": "markdown",
      "metadata": {
        "id": "bzJFYwJfHf0z",
        "colab_type": "text"
      },
      "source": [
        "ВЫВОД: имеем дело с 1599 строками полностью пригодных для работы данных!"
      ]
    },
    {
      "cell_type": "markdown",
      "metadata": {
        "id": "I2eMrcwgIDny",
        "colab_type": "text"
      },
      "source": [
        "На всякий случай создаем копию исходного датафрейма:"
      ]
    },
    {
      "cell_type": "code",
      "metadata": {
        "id": "SMil8SWcIGbO",
        "colab_type": "code",
        "colab": {}
      },
      "source": [
        "wines_copy = wines.copy()"
      ],
      "execution_count": 0,
      "outputs": []
    },
    {
      "cell_type": "code",
      "metadata": {
        "id": "9r9Ivy6oIHNg",
        "colab_type": "code",
        "outputId": "95961a85-848c-46ae-9c99-326148e6afb9",
        "colab": {
          "base_uri": "https://localhost:8080/",
          "height": 221
        }
      },
      "source": [
        "wines.head()"
      ],
      "execution_count": 0,
      "outputs": [
        {
          "output_type": "execute_result",
          "data": {
            "text/html": [
              "<div>\n",
              "<style scoped>\n",
              "    .dataframe tbody tr th:only-of-type {\n",
              "        vertical-align: middle;\n",
              "    }\n",
              "\n",
              "    .dataframe tbody tr th {\n",
              "        vertical-align: top;\n",
              "    }\n",
              "\n",
              "    .dataframe thead th {\n",
              "        text-align: right;\n",
              "    }\n",
              "</style>\n",
              "<table border=\"1\" class=\"dataframe\">\n",
              "  <thead>\n",
              "    <tr style=\"text-align: right;\">\n",
              "      <th></th>\n",
              "      <th>\"fixed acidity\"</th>\n",
              "      <th>\"volatile acidity\"</th>\n",
              "      <th>\"citric acid\"</th>\n",
              "      <th>\"residual sugar\"</th>\n",
              "      <th>\"chlorides\"</th>\n",
              "      <th>\"free sulfur dioxide\"</th>\n",
              "      <th>\"total sulfur dioxide\"</th>\n",
              "      <th>\"density\"</th>\n",
              "      <th>\"pH\"</th>\n",
              "      <th>\"sulphates\"</th>\n",
              "      <th>\"alcohol\"</th>\n",
              "      <th>\"quality\"</th>\n",
              "    </tr>\n",
              "  </thead>\n",
              "  <tbody>\n",
              "    <tr>\n",
              "      <th>0</th>\n",
              "      <td>7.4</td>\n",
              "      <td>0.70</td>\n",
              "      <td>0.00</td>\n",
              "      <td>1.9</td>\n",
              "      <td>0.076</td>\n",
              "      <td>11.0</td>\n",
              "      <td>34.0</td>\n",
              "      <td>0.9978</td>\n",
              "      <td>3.51</td>\n",
              "      <td>0.56</td>\n",
              "      <td>9.4</td>\n",
              "      <td>5</td>\n",
              "    </tr>\n",
              "    <tr>\n",
              "      <th>1</th>\n",
              "      <td>7.8</td>\n",
              "      <td>0.88</td>\n",
              "      <td>0.00</td>\n",
              "      <td>2.6</td>\n",
              "      <td>0.098</td>\n",
              "      <td>25.0</td>\n",
              "      <td>67.0</td>\n",
              "      <td>0.9968</td>\n",
              "      <td>3.20</td>\n",
              "      <td>0.68</td>\n",
              "      <td>9.8</td>\n",
              "      <td>5</td>\n",
              "    </tr>\n",
              "    <tr>\n",
              "      <th>2</th>\n",
              "      <td>7.8</td>\n",
              "      <td>0.76</td>\n",
              "      <td>0.04</td>\n",
              "      <td>2.3</td>\n",
              "      <td>0.092</td>\n",
              "      <td>15.0</td>\n",
              "      <td>54.0</td>\n",
              "      <td>0.9970</td>\n",
              "      <td>3.26</td>\n",
              "      <td>0.65</td>\n",
              "      <td>9.8</td>\n",
              "      <td>5</td>\n",
              "    </tr>\n",
              "    <tr>\n",
              "      <th>3</th>\n",
              "      <td>11.2</td>\n",
              "      <td>0.28</td>\n",
              "      <td>0.56</td>\n",
              "      <td>1.9</td>\n",
              "      <td>0.075</td>\n",
              "      <td>17.0</td>\n",
              "      <td>60.0</td>\n",
              "      <td>0.9980</td>\n",
              "      <td>3.16</td>\n",
              "      <td>0.58</td>\n",
              "      <td>9.8</td>\n",
              "      <td>6</td>\n",
              "    </tr>\n",
              "    <tr>\n",
              "      <th>4</th>\n",
              "      <td>7.4</td>\n",
              "      <td>0.70</td>\n",
              "      <td>0.00</td>\n",
              "      <td>1.9</td>\n",
              "      <td>0.076</td>\n",
              "      <td>11.0</td>\n",
              "      <td>34.0</td>\n",
              "      <td>0.9978</td>\n",
              "      <td>3.51</td>\n",
              "      <td>0.56</td>\n",
              "      <td>9.4</td>\n",
              "      <td>5</td>\n",
              "    </tr>\n",
              "  </tbody>\n",
              "</table>\n",
              "</div>"
            ],
            "text/plain": [
              "   \"fixed acidity\"  \"volatile acidity\"  \"citric acid\"  \"residual sugar\"  \\\n",
              "0              7.4                0.70           0.00               1.9   \n",
              "1              7.8                0.88           0.00               2.6   \n",
              "2              7.8                0.76           0.04               2.3   \n",
              "3             11.2                0.28           0.56               1.9   \n",
              "4              7.4                0.70           0.00               1.9   \n",
              "\n",
              "   \"chlorides\"  \"free sulfur dioxide\"  \"total sulfur dioxide\"  \"density\"  \\\n",
              "0        0.076                   11.0                    34.0     0.9978   \n",
              "1        0.098                   25.0                    67.0     0.9968   \n",
              "2        0.092                   15.0                    54.0     0.9970   \n",
              "3        0.075                   17.0                    60.0     0.9980   \n",
              "4        0.076                   11.0                    34.0     0.9978   \n",
              "\n",
              "   \"pH\"  \"sulphates\"  \"alcohol\"  \"quality\"  \n",
              "0  3.51         0.56        9.4          5  \n",
              "1  3.20         0.68        9.8          5  \n",
              "2  3.26         0.65        9.8          5  \n",
              "3  3.16         0.58        9.8          6  \n",
              "4  3.51         0.56        9.4          5  "
            ]
          },
          "metadata": {
            "tags": []
          },
          "execution_count": 73
        }
      ]
    },
    {
      "cell_type": "markdown",
      "metadata": {
        "id": "8xoJaArszoE_",
        "colab_type": "text"
      },
      "source": [
        "\n",
        "\n",
        "---\n",
        "\n"
      ]
    },
    {
      "cell_type": "markdown",
      "metadata": {
        "id": "R9BAdnRhHzWy",
        "colab_type": "text"
      },
      "source": [
        "## Изучение зависимостей. Визуализация"
      ]
    },
    {
      "cell_type": "markdown",
      "metadata": {
        "id": "Q94mxr-LIxgw",
        "colab_type": "text"
      },
      "source": [
        "Выделяем \"target variable\" - независимую переменную (\"quality\", в нашем случае). Все остальные переменные называем \"features\" и объединяем в список:"
      ]
    },
    {
      "cell_type": "code",
      "metadata": {
        "id": "oygGfFQQIyXI",
        "colab_type": "code",
        "colab": {}
      },
      "source": [
        "target = '\"quality\"'\n",
        "features_list = list(wines.columns)\n",
        "features_list.remove(target)"
      ],
      "execution_count": 0,
      "outputs": []
    },
    {
      "cell_type": "markdown",
      "metadata": {
        "id": "C7ruPsr9Jysk",
        "colab_type": "text"
      },
      "source": [
        "Строим гистограммы по каждой переменной из features_list:"
      ]
    },
    {
      "cell_type": "code",
      "metadata": {
        "id": "-he0ce4eJtKs",
        "colab_type": "code",
        "outputId": "45f3dde1-f4b3-44cf-cdc5-b8bfc09faa26",
        "colab": {
          "base_uri": "https://localhost:8080/",
          "height": 560
        }
      },
      "source": [
        "wines[features_list].hist(bins=40, edgecolor='b', linewidth=1.0,\n",
        "                          xlabelsize=8, ylabelsize=8, grid=False, \n",
        "                          figsize=(10,6), color='brown')    \n",
        "plt.tight_layout(rect=(0, 0, 1.2, 1.2))   \n",
        "plt.suptitle('Red Wine Univariate Plots', x=0.65, y=1.25, fontsize=14);"
      ],
      "execution_count": 0,
      "outputs": [
        {
          "output_type": "display_data",
          "data": {
            "image/png": "[encoded data removed]",
            "text/plain": [
              "<Figure size 720x432 with 12 Axes>"
            ]
          },
          "metadata": {
            "tags": []
          }
        }
      ]
    },
    {
      "cell_type": "markdown",
      "metadata": {
        "id": "SG0G1bTtLFPd",
        "colab_type": "text"
      },
      "source": [
        "Посмотрим, сколько уникальных значений в колонке \"quality\":"
      ]
    },
    {
      "cell_type": "code",
      "metadata": {
        "id": "6g-eCg5HLU-i",
        "colab_type": "code",
        "outputId": "caeb34cd-fdce-406f-9abf-85fde50a6e72",
        "colab": {
          "base_uri": "https://localhost:8080/",
          "height": 34
        }
      },
      "source": [
        "wines[target].unique()"
      ],
      "execution_count": 0,
      "outputs": [
        {
          "output_type": "execute_result",
          "data": {
            "text/plain": [
              "array([5, 6, 7, 4, 8, 3])"
            ]
          },
          "metadata": {
            "tags": []
          },
          "execution_count": 76
        }
      ]
    },
    {
      "cell_type": "markdown",
      "metadata": {
        "id": "cHidZVnwLvB6",
        "colab_type": "text"
      },
      "source": [
        "Построим гистограмму по уникальным значениям колонки \"quality\":"
      ]
    },
    {
      "cell_type": "code",
      "metadata": {
        "id": "f_vnfuwKLZKh",
        "colab_type": "code",
        "outputId": "2ce04458-5aaa-4446-fe51-8c8cc14496d2",
        "colab": {
          "base_uri": "https://localhost:8080/",
          "height": 300
        }
      },
      "source": [
        "sns.countplot(x=target, data=wines, palette='Reds')"
      ],
      "execution_count": 0,
      "outputs": [
        {
          "output_type": "execute_result",
          "data": {
            "text/plain": [
              "<matplotlib.axes._subplots.AxesSubplot at 0x7f58cbb935c0>"
            ]
          },
          "metadata": {
            "tags": []
          },
          "execution_count": 77
        },
        {
          "output_type": "display_data",
          "data": {
            "image/png": "[encoded data removed]",
            "text/plain": [
              "<Figure size 432x288 with 1 Axes>"
            ]
          },
          "metadata": {
            "tags": []
          }
        }
      ]
    },
    {
      "cell_type": "code",
      "metadata": {
        "id": "SiCr4ggKMfqw",
        "colab_type": "code",
        "outputId": "1dc311b5-0409-4d6e-de87-dcf0b6795002",
        "colab": {
          "base_uri": "https://localhost:8080/",
          "height": 136
        }
      },
      "source": [
        "wines[target].value_counts()"
      ],
      "execution_count": 0,
      "outputs": [
        {
          "output_type": "execute_result",
          "data": {
            "text/plain": [
              "5    681\n",
              "6    638\n",
              "7    199\n",
              "4     53\n",
              "8     18\n",
              "3     10\n",
              "Name: \"quality\", dtype: int64"
            ]
          },
          "metadata": {
            "tags": []
          },
          "execution_count": 78
        }
      ]
    },
    {
      "cell_type": "markdown",
      "metadata": {
        "id": "L8qxGVmfMAQ2",
        "colab_type": "text"
      },
      "source": [
        "ВЫВОД: с большим отрывом преобладает вино с оценкой качества \"5\" или \"6\"."
      ]
    },
    {
      "cell_type": "markdown",
      "metadata": {
        "id": "atFBe-J2NH1n",
        "colab_type": "text"
      },
      "source": [
        "Составим матрицу корреляции, чтобы оценить зависимости между переменными.\n",
        "Представим матрицу в виде heatmap:"
      ]
    },
    {
      "cell_type": "code",
      "metadata": {
        "id": "xw3oX2elNI0N",
        "colab_type": "code",
        "outputId": "59eefae5-8259-4c6a-bfc1-7f63d02a2c90",
        "colab": {
          "base_uri": "https://localhost:8080/",
          "height": 657
        }
      },
      "source": [
        "correlation = wines.corr()\n",
        "\n",
        "fig = plt.subplots(figsize=(10,10))\n",
        "sns.heatmap(correlation,vmax=1,square=True,annot=True,cmap='Reds')"
      ],
      "execution_count": 0,
      "outputs": [
        {
          "output_type": "execute_result",
          "data": {
            "text/plain": [
              "<matplotlib.axes._subplots.AxesSubplot at 0x7f58c5bc3390>"
            ]
          },
          "metadata": {
            "tags": []
          },
          "execution_count": 79
        },
        {
          "output_type": "display_data",
          "data": {
            "image/png": "[encoded data removed]",
            "text/plain": [
              "<Figure size 720x720 with 2 Axes>"
            ]
          },
          "metadata": {
            "tags": []
          }
        }
      ]
    },
    {
      "cell_type": "markdown",
      "metadata": {
        "id": "wPeItiSVN58M",
        "colab_type": "text"
      },
      "source": [
        "ВЫВОДЫ:\n",
        "* Из матрицы видно, что показатель уровня содержания алкоголя (\"alcohol\") имеет самый высокий положительный коэффициент корреляции (0.48) с показателем качества вина (\"quality\").\n",
        "* Также можно заметить, что коэффициент корреляции \"pH\"-\"fixed acidity\" большой по модулю и отрицательный (-0.68). Это объяснается тем, что \"fixed acidity\" - мера кислотности, а  \"pH\" - показатель уровня pH, который принимает значения от 0 до 14: чем выше кислотность, тем ближе значение к нулю. Из описания данных: \"most wines are acidic and have a pH of 3-4\".\n",
        "* Также высокими положительными (0.67) являются коэффициенты корреляции \"fixed acidity\"-\"density\", \"fixed acidity\"-\"citric acid\", \"total sulfur dioxide\"-\"free sulfur dioxide\"."
      ]
    },
    {
      "cell_type": "markdown",
      "metadata": {
        "id": "ANxwsQHCzr5h",
        "colab_type": "text"
      },
      "source": [
        "\n",
        "\n",
        "---\n",
        "\n"
      ]
    },
    {
      "cell_type": "markdown",
      "metadata": {
        "id": "WxTirTEiYBdJ",
        "colab_type": "text"
      },
      "source": [
        "## Подготовка данных "
      ]
    },
    {
      "cell_type": "markdown",
      "metadata": {
        "id": "oCMCr2UfX_Ps",
        "colab_type": "text"
      },
      "source": [
        "Будем называть независимую переменную (аргумент) - X, а зависимую - y.\n",
        "\n"
      ]
    },
    {
      "cell_type": "code",
      "metadata": {
        "id": "xRkI_eb2WCXk",
        "colab_type": "code",
        "colab": {}
      },
      "source": [
        "X = wines[features_list]\n",
        "y = wines[target]"
      ],
      "execution_count": 0,
      "outputs": []
    },
    {
      "cell_type": "markdown",
      "metadata": {
        "id": "BPNxN8KwXq5z",
        "colab_type": "text"
      },
      "source": [
        "Проверим размерности:"
      ]
    },
    {
      "cell_type": "code",
      "metadata": {
        "id": "TvSM_Xs6XnmD",
        "colab_type": "code",
        "outputId": "ff8a7a75-46ea-47d5-eea2-7faad4434f83",
        "colab": {
          "base_uri": "https://localhost:8080/",
          "height": 34
        }
      },
      "source": [
        "X.shape"
      ],
      "execution_count": 0,
      "outputs": [
        {
          "output_type": "execute_result",
          "data": {
            "text/plain": [
              "(1599, 11)"
            ]
          },
          "metadata": {
            "tags": []
          },
          "execution_count": 81
        }
      ]
    },
    {
      "cell_type": "code",
      "metadata": {
        "id": "b9w4KlafXpH5",
        "colab_type": "code",
        "outputId": "a497b3f0-11ac-4cad-c55e-3f74e4c9cd34",
        "colab": {
          "base_uri": "https://localhost:8080/",
          "height": 34
        }
      },
      "source": [
        "y.shape"
      ],
      "execution_count": 0,
      "outputs": [
        {
          "output_type": "execute_result",
          "data": {
            "text/plain": [
              "(1599,)"
            ]
          },
          "metadata": {
            "tags": []
          },
          "execution_count": 82
        }
      ]
    },
    {
      "cell_type": "markdown",
      "metadata": {
        "id": "QYE-hUnpbGeF",
        "colab_type": "text"
      },
      "source": [
        "Что получилось:"
      ]
    },
    {
      "cell_type": "code",
      "metadata": {
        "id": "z44op3rkbIlU",
        "colab_type": "code",
        "outputId": "dcff389a-3f94-46f6-f7de-c5954425a344",
        "colab": {
          "base_uri": "https://localhost:8080/",
          "height": 221
        }
      },
      "source": [
        "X.head()"
      ],
      "execution_count": 0,
      "outputs": [
        {
          "output_type": "execute_result",
          "data": {
            "text/html": [
              "<div>\n",
              "<style scoped>\n",
              "    .dataframe tbody tr th:only-of-type {\n",
              "        vertical-align: middle;\n",
              "    }\n",
              "\n",
              "    .dataframe tbody tr th {\n",
              "        vertical-align: top;\n",
              "    }\n",
              "\n",
              "    .dataframe thead th {\n",
              "        text-align: right;\n",
              "    }\n",
              "</style>\n",
              "<table border=\"1\" class=\"dataframe\">\n",
              "  <thead>\n",
              "    <tr style=\"text-align: right;\">\n",
              "      <th></th>\n",
              "      <th>\"fixed acidity\"</th>\n",
              "      <th>\"volatile acidity\"</th>\n",
              "      <th>\"citric acid\"</th>\n",
              "      <th>\"residual sugar\"</th>\n",
              "      <th>\"chlorides\"</th>\n",
              "      <th>\"free sulfur dioxide\"</th>\n",
              "      <th>\"total sulfur dioxide\"</th>\n",
              "      <th>\"density\"</th>\n",
              "      <th>\"pH\"</th>\n",
              "      <th>\"sulphates\"</th>\n",
              "      <th>\"alcohol\"</th>\n",
              "    </tr>\n",
              "  </thead>\n",
              "  <tbody>\n",
              "    <tr>\n",
              "      <th>0</th>\n",
              "      <td>7.4</td>\n",
              "      <td>0.70</td>\n",
              "      <td>0.00</td>\n",
              "      <td>1.9</td>\n",
              "      <td>0.076</td>\n",
              "      <td>11.0</td>\n",
              "      <td>34.0</td>\n",
              "      <td>0.9978</td>\n",
              "      <td>3.51</td>\n",
              "      <td>0.56</td>\n",
              "      <td>9.4</td>\n",
              "    </tr>\n",
              "    <tr>\n",
              "      <th>1</th>\n",
              "      <td>7.8</td>\n",
              "      <td>0.88</td>\n",
              "      <td>0.00</td>\n",
              "      <td>2.6</td>\n",
              "      <td>0.098</td>\n",
              "      <td>25.0</td>\n",
              "      <td>67.0</td>\n",
              "      <td>0.9968</td>\n",
              "      <td>3.20</td>\n",
              "      <td>0.68</td>\n",
              "      <td>9.8</td>\n",
              "    </tr>\n",
              "    <tr>\n",
              "      <th>2</th>\n",
              "      <td>7.8</td>\n",
              "      <td>0.76</td>\n",
              "      <td>0.04</td>\n",
              "      <td>2.3</td>\n",
              "      <td>0.092</td>\n",
              "      <td>15.0</td>\n",
              "      <td>54.0</td>\n",
              "      <td>0.9970</td>\n",
              "      <td>3.26</td>\n",
              "      <td>0.65</td>\n",
              "      <td>9.8</td>\n",
              "    </tr>\n",
              "    <tr>\n",
              "      <th>3</th>\n",
              "      <td>11.2</td>\n",
              "      <td>0.28</td>\n",
              "      <td>0.56</td>\n",
              "      <td>1.9</td>\n",
              "      <td>0.075</td>\n",
              "      <td>17.0</td>\n",
              "      <td>60.0</td>\n",
              "      <td>0.9980</td>\n",
              "      <td>3.16</td>\n",
              "      <td>0.58</td>\n",
              "      <td>9.8</td>\n",
              "    </tr>\n",
              "    <tr>\n",
              "      <th>4</th>\n",
              "      <td>7.4</td>\n",
              "      <td>0.70</td>\n",
              "      <td>0.00</td>\n",
              "      <td>1.9</td>\n",
              "      <td>0.076</td>\n",
              "      <td>11.0</td>\n",
              "      <td>34.0</td>\n",
              "      <td>0.9978</td>\n",
              "      <td>3.51</td>\n",
              "      <td>0.56</td>\n",
              "      <td>9.4</td>\n",
              "    </tr>\n",
              "  </tbody>\n",
              "</table>\n",
              "</div>"
            ],
            "text/plain": [
              "   \"fixed acidity\"  \"volatile acidity\"  \"citric acid\"  \"residual sugar\"  \\\n",
              "0              7.4                0.70           0.00               1.9   \n",
              "1              7.8                0.88           0.00               2.6   \n",
              "2              7.8                0.76           0.04               2.3   \n",
              "3             11.2                0.28           0.56               1.9   \n",
              "4              7.4                0.70           0.00               1.9   \n",
              "\n",
              "   \"chlorides\"  \"free sulfur dioxide\"  \"total sulfur dioxide\"  \"density\"  \\\n",
              "0        0.076                   11.0                    34.0     0.9978   \n",
              "1        0.098                   25.0                    67.0     0.9968   \n",
              "2        0.092                   15.0                    54.0     0.9970   \n",
              "3        0.075                   17.0                    60.0     0.9980   \n",
              "4        0.076                   11.0                    34.0     0.9978   \n",
              "\n",
              "   \"pH\"  \"sulphates\"  \"alcohol\"  \n",
              "0  3.51         0.56        9.4  \n",
              "1  3.20         0.68        9.8  \n",
              "2  3.26         0.65        9.8  \n",
              "3  3.16         0.58        9.8  \n",
              "4  3.51         0.56        9.4  "
            ]
          },
          "metadata": {
            "tags": []
          },
          "execution_count": 83
        }
      ]
    },
    {
      "cell_type": "code",
      "metadata": {
        "id": "ktLtX1X7bipT",
        "colab_type": "code",
        "outputId": "89190499-fc28-4e11-c012-ddbf5856f694",
        "colab": {
          "base_uri": "https://localhost:8080/",
          "height": 119
        }
      },
      "source": [
        "y.head()"
      ],
      "execution_count": 0,
      "outputs": [
        {
          "output_type": "execute_result",
          "data": {
            "text/plain": [
              "0    5\n",
              "1    5\n",
              "2    5\n",
              "3    6\n",
              "4    5\n",
              "Name: \"quality\", dtype: int64"
            ]
          },
          "metadata": {
            "tags": []
          },
          "execution_count": 84
        }
      ]
    },
    {
      "cell_type": "markdown",
      "metadata": {
        "id": "3rFSXN3lwhWE",
        "colab_type": "text"
      },
      "source": [
        "Разбиваем данные на две части: тренировочную (train) и тестовую (test):"
      ]
    },
    {
      "cell_type": "code",
      "metadata": {
        "id": "xO8AKpzWwkfh",
        "colab_type": "code",
        "colab": {}
      },
      "source": [
        "X_train, X_test, y_train, y_test = train_test_split(X, y, test_size = 0.2,random_state=0)"
      ],
      "execution_count": 0,
      "outputs": []
    },
    {
      "cell_type": "markdown",
      "metadata": {
        "id": "S57zAuGnaZob",
        "colab_type": "text"
      },
      "source": [
        "Стандартизируем данные:\n",
        "\n",
        "После применения StandardScaler() каждый столбец в X будет иметь среднее значение 0 и стандартное отклонение 1."
      ]
    },
    {
      "cell_type": "code",
      "metadata": {
        "id": "_d7DQsL8aI_t",
        "colab_type": "code",
        "colab": {}
      },
      "source": [
        "sc_X = StandardScaler()\n",
        "X_train = sc_X.fit_transform(X_train)\n",
        "X_test = sc_X.transform(X_test)"
      ],
      "execution_count": 0,
      "outputs": []
    },
    {
      "cell_type": "markdown",
      "metadata": {
        "id": "lXhYUHzgzvV6",
        "colab_type": "text"
      },
      "source": [
        "\n",
        "\n",
        "---\n",
        "\n"
      ]
    },
    {
      "cell_type": "markdown",
      "metadata": {
        "id": "papWwLOjcK1k",
        "colab_type": "text"
      },
      "source": [
        "## Обучение моделей и предсказания"
      ]
    },
    {
      "cell_type": "markdown",
      "metadata": {
        "id": "tIKS7q-VcQlQ",
        "colab_type": "text"
      },
      "source": [
        "Метод Support Vector Machine:"
      ]
    },
    {
      "cell_type": "code",
      "metadata": {
        "id": "Nl7BXWmLcRPV",
        "colab_type": "code",
        "colab": {}
      },
      "source": [
        "svc = SVC()\n",
        "svc.fit(X_train,y_train)\n",
        "svc_predict =svc.predict(X_test)"
      ],
      "execution_count": 0,
      "outputs": []
    },
    {
      "cell_type": "markdown",
      "metadata": {
        "id": "sdqv7IKjKygR",
        "colab_type": "text"
      },
      "source": [
        "Посмотрим на матрицу ошибок и точность предсказаний:"
      ]
    },
    {
      "cell_type": "code",
      "metadata": {
        "id": "qXARNM8VddJT",
        "colab_type": "code",
        "outputId": "f0c94427-1939-4c03-d368-7bb76f777986",
        "colab": {
          "base_uri": "https://localhost:8080/",
          "height": 272
        }
      },
      "source": [
        "print('Confusion matrix:\\n')\n",
        "classes = [3,4,5,6,7,8]\n",
        "total_classes = len(classes)\n",
        "level_labels = [total_classes*[0], list(range(total_classes))]\n",
        "\n",
        "cm = metrics.confusion_matrix(y_test, svc_predict, labels=classes)\n",
        "cm_frame = pd.DataFrame(data=cm, columns=pd.MultiIndex(levels=[['Predicted:'], classes], labels=level_labels),index=pd.MultiIndex(levels=[['Actual:'], classes], labels=level_labels))\n",
        "print(cm_frame)\n",
        "\n",
        "svc_acc_score = accuracy_score(y_test, svc_predict)\n",
        "print('-'*60)\n",
        "print('Accuracy: ',svc_acc_score)\n",
        "print('-'*60)"
      ],
      "execution_count": 0,
      "outputs": [
        {
          "output_type": "stream",
          "text": [
            "Confusion matrix:\n",
            "\n",
            "          Predicted:                  \n",
            "                   3  4    5   6  7  8\n",
            "Actual: 3          0  0    1   1  0  0\n",
            "        4          0  0    8   3  0  0\n",
            "        5          0  0  101  34  0  0\n",
            "        6          0  0   39  97  6  0\n",
            "        7          0  0    1  18  8  0\n",
            "        8          0  0    0   1  2  0\n",
            "------------------------------------------------------------\n",
            "Accuracy:  0.64375\n",
            "------------------------------------------------------------\n"
          ],
          "name": "stdout"
        },
        {
          "output_type": "stream",
          "text": [
            "/usr/local/lib/python3.6/dist-packages/ipykernel_launcher.py:7: FutureWarning: the 'labels' keyword is deprecated, use 'codes' instead\n",
            "  import sys\n"
          ],
          "name": "stderr"
        }
      ]
    },
    {
      "cell_type": "markdown",
      "metadata": {
        "id": "ndD-qr31hKkn",
        "colab_type": "text"
      },
      "source": [
        "\n",
        "Результаты хорошо обученного классификатора показывают матрицу ошибок, в которой самые большие значения стоят на диагонали матрицы, а небольшие значения (в идеале нули) – на остальных позициях.\n",
        "\n",
        "В нашем случае, достаточно большие значения наблюдаются на пересечениях Actual-5/Predicted-6 и Actual-6/Predicted-5. Интуитивно, это можно объяснить тем, что эти два значения являются соседними и именно они преобладают  в колонке \"'quality'\" рассматриваемого датафрейма.\n"
      ]
    },
    {
      "cell_type": "markdown",
      "metadata": {
        "id": "76ZQ9DWsiECK",
        "colab_type": "text"
      },
      "source": [
        "Метод Logistic Regression:"
      ]
    },
    {
      "cell_type": "code",
      "metadata": {
        "id": "rGXFn2-4dB6t",
        "colab_type": "code",
        "outputId": "1fcb9d7a-b093-4042-f887-e4270af7478b",
        "colab": {
          "base_uri": "https://localhost:8080/",
          "height": 105
        }
      },
      "source": [
        "lr = LogisticRegression()\n",
        "lr.fit(X_train, y_train)\n",
        "lr_predict = lr.predict(X_test)"
      ],
      "execution_count": 0,
      "outputs": [
        {
          "output_type": "stream",
          "text": [
            "/usr/local/lib/python3.6/dist-packages/sklearn/linear_model/logistic.py:433: FutureWarning: Default solver will be changed to 'lbfgs' in 0.22. Specify a solver to silence this warning.\n",
            "  FutureWarning)\n",
            "/usr/local/lib/python3.6/dist-packages/sklearn/linear_model/logistic.py:460: FutureWarning: Default multi_class will be changed to 'auto' in 0.22. Specify the multi_class option to silence this warning.\n",
            "  \"this warning.\", FutureWarning)\n"
          ],
          "name": "stderr"
        }
      ]
    },
    {
      "cell_type": "markdown",
      "metadata": {
        "id": "jhMcAsGbiMzy",
        "colab_type": "text"
      },
      "source": [
        "Посмотрим на матрицу ошибок и точность предсказаний:"
      ]
    },
    {
      "cell_type": "code",
      "metadata": {
        "id": "JOgMLby1dFw7",
        "colab_type": "code",
        "outputId": "d3b9411d-7133-458a-d6f7-5ccd1855b5cb",
        "colab": {
          "base_uri": "https://localhost:8080/",
          "height": 272
        }
      },
      "source": [
        "print('Confusion matrix:\\n')\n",
        "classes = [3,4,5,6,7,8]\n",
        "total_classes = len(classes)\n",
        "level_labels = [total_classes*[0], list(range(total_classes))]\n",
        "\n",
        "cm = metrics.confusion_matrix(y_test, lr_predict, labels=classes)\n",
        "cm_frame = pd.DataFrame(data=cm, columns=pd.MultiIndex(levels=[['Predicted:'], classes], labels=level_labels),index=pd.MultiIndex(levels=[['Actual:'], classes], labels=level_labels))\n",
        "print(cm_frame)\n",
        "\n",
        "lr_acc_score = accuracy_score(y_test, lr_predict)\n",
        "print('-'*60)\n",
        "print('Accuracy: ',lr_acc_score)\n",
        "print('-'*60)"
      ],
      "execution_count": 0,
      "outputs": [
        {
          "output_type": "stream",
          "text": [
            "Confusion matrix:\n",
            "\n",
            "          Predicted:                   \n",
            "                   3  4    5   6   7  8\n",
            "Actual: 3          0  0    2   0   0  0\n",
            "        4          0  0    6   4   1  0\n",
            "        5          0  0  107  28   0  0\n",
            "        6          0  0   42  87  13  0\n",
            "        7          0  0    2  18   7  0\n",
            "        8          0  0    0   1   2  0\n",
            "------------------------------------------------------------\n",
            "Accuracy:  0.628125\n",
            "------------------------------------------------------------\n"
          ],
          "name": "stdout"
        },
        {
          "output_type": "stream",
          "text": [
            "/usr/local/lib/python3.6/dist-packages/ipykernel_launcher.py:7: FutureWarning: the 'labels' keyword is deprecated, use 'codes' instead\n",
            "  import sys\n"
          ],
          "name": "stderr"
        }
      ]
    },
    {
      "cell_type": "markdown",
      "metadata": {
        "id": "D1Wb2nKYinm_",
        "colab_type": "text"
      },
      "source": [
        "Метод Decision Tree:"
      ]
    },
    {
      "cell_type": "code",
      "metadata": {
        "id": "b0zZyWruebqu",
        "colab_type": "code",
        "colab": {}
      },
      "source": [
        "dt = DecisionTreeClassifier()\n",
        "dt.fit(X_train,y_train)\n",
        "dt_predict = dt.predict(X_test)"
      ],
      "execution_count": 0,
      "outputs": []
    },
    {
      "cell_type": "markdown",
      "metadata": {
        "id": "060I2lsdiuMQ",
        "colab_type": "text"
      },
      "source": [
        "Посмотрим на матрицу ошибок и точность предсказаний:"
      ]
    },
    {
      "cell_type": "code",
      "metadata": {
        "id": "rqQhOA0OeitU",
        "colab_type": "code",
        "outputId": "422c1fb8-40ba-4f36-af3d-a30a2c4eeae4",
        "colab": {
          "base_uri": "https://localhost:8080/",
          "height": 272
        }
      },
      "source": [
        "print('Confusion matrix:\\n')\n",
        "classes = [3,4,5,6,7,8]\n",
        "total_classes = len(classes)\n",
        "level_labels = [total_classes*[0], list(range(total_classes))]\n",
        "\n",
        "cm = metrics.confusion_matrix(y_test, dt_predict, labels=classes)\n",
        "cm_frame = pd.DataFrame(data=cm, columns=pd.MultiIndex(levels=[['Predicted:'], classes], labels=level_labels),index=pd.MultiIndex(levels=[['Actual:'], classes], labels=level_labels))\n",
        "print(cm_frame)\n",
        "\n",
        "dt_acc_score = accuracy_score(y_test, dt_predict)\n",
        "print('-'*60)\n",
        "print('Accuracy: ',dt_acc_score)\n",
        "print('-'*60)"
      ],
      "execution_count": 0,
      "outputs": [
        {
          "output_type": "stream",
          "text": [
            "Confusion matrix:\n",
            "\n",
            "          Predicted:                  \n",
            "                   3  4   5   6   7  8\n",
            "Actual: 3          0  0   0   2   0  0\n",
            "        4          0  2   5   4   0  0\n",
            "        5          0  5  95  30   5  0\n",
            "        6          0  4  27  95  15  1\n",
            "        7          0  0   2   3  17  5\n",
            "        8          0  0   0   1   2  0\n",
            "------------------------------------------------------------\n",
            "Accuracy:  0.653125\n",
            "------------------------------------------------------------\n"
          ],
          "name": "stdout"
        },
        {
          "output_type": "stream",
          "text": [
            "/usr/local/lib/python3.6/dist-packages/ipykernel_launcher.py:7: FutureWarning: the 'labels' keyword is deprecated, use 'codes' instead\n",
            "  import sys\n"
          ],
          "name": "stderr"
        }
      ]
    },
    {
      "cell_type": "markdown",
      "metadata": {
        "id": "unGPviohiw2N",
        "colab_type": "text"
      },
      "source": [
        "Метод Random Forest: "
      ]
    },
    {
      "cell_type": "code",
      "metadata": {
        "id": "-IiSHCRreyBI",
        "colab_type": "code",
        "outputId": "b16e9c06-42b5-4a3b-8fb5-6f5c90f8f80f",
        "colab": {
          "base_uri": "https://localhost:8080/",
          "height": 71
        }
      },
      "source": [
        "rf = RandomForestClassifier()\n",
        "rf.fit(X_train, y_train)\n",
        "rf_predict=rf.predict(X_test)"
      ],
      "execution_count": 0,
      "outputs": [
        {
          "output_type": "stream",
          "text": [
            "/usr/local/lib/python3.6/dist-packages/sklearn/ensemble/forest.py:246: FutureWarning: The default value of n_estimators will change from 10 in version 0.20 to 100 in 0.22.\n",
            "  \"10 in version 0.20 to 100 in 0.22.\", FutureWarning)\n"
          ],
          "name": "stderr"
        }
      ]
    },
    {
      "cell_type": "markdown",
      "metadata": {
        "id": "s3xa2qOAiv1A",
        "colab_type": "text"
      },
      "source": [
        "Посмотрим на матрицу ошибок и точность предсказаний:"
      ]
    },
    {
      "cell_type": "code",
      "metadata": {
        "id": "4kftHzwGe3Nn",
        "colab_type": "code",
        "outputId": "14d884f4-a451-4a4d-9f85-d61ae953ad4e",
        "colab": {
          "base_uri": "https://localhost:8080/",
          "height": 272
        }
      },
      "source": [
        "print('Confusion matrix:\\n')\n",
        "classes = [3,4,5,6,7,8]\n",
        "total_classes = len(classes)\n",
        "level_labels = [total_classes*[0], list(range(total_classes))]\n",
        "\n",
        "cm = metrics.confusion_matrix(y_test, rf_predict, labels=classes)\n",
        "cm_frame = pd.DataFrame(data=cm, columns=pd.MultiIndex(levels=[['Predicted:'], classes], labels=level_labels),index=pd.MultiIndex(levels=[['Actual:'], classes], labels=level_labels))\n",
        "print(cm_frame)\n",
        "\n",
        "rf_acc_score = accuracy_score(y_test, rf_predict)\n",
        "print('-'*60)\n",
        "print('Accuracy: ',rf_acc_score)\n",
        "print('-'*60)"
      ],
      "execution_count": 0,
      "outputs": [
        {
          "output_type": "stream",
          "text": [
            "/usr/local/lib/python3.6/dist-packages/ipykernel_launcher.py:7: FutureWarning: the 'labels' keyword is deprecated, use 'codes' instead\n",
            "  import sys\n"
          ],
          "name": "stderr"
        },
        {
          "output_type": "stream",
          "text": [
            "Confusion matrix:\n",
            "\n",
            "          Predicted:                    \n",
            "                   3  4    5    6   7  8\n",
            "Actual: 3          0  0    2    0   0  0\n",
            "        4          0  0    7    3   1  0\n",
            "        5          0  0  112   18   5  0\n",
            "        6          0  1   32  102   7  0\n",
            "        7          0  0    0   10  15  2\n",
            "        8          0  0    0    1   2  0\n",
            "------------------------------------------------------------\n",
            "Accuracy:  0.715625\n",
            "------------------------------------------------------------\n"
          ],
          "name": "stdout"
        }
      ]
    },
    {
      "cell_type": "markdown",
      "metadata": {
        "id": "Ij-NvulF-Xf1",
        "colab_type": "text"
      },
      "source": [
        "Метод Naive Bayes:"
      ]
    },
    {
      "cell_type": "code",
      "metadata": {
        "id": "2Swpgagv-Q1t",
        "colab_type": "code",
        "colab": {}
      },
      "source": [
        "nb = GaussianNB()\n",
        "nb.fit(X_train,y_train)\n",
        "nb_predict=nb.predict(X_test)"
      ],
      "execution_count": 0,
      "outputs": []
    },
    {
      "cell_type": "markdown",
      "metadata": {
        "id": "jkJy_wK5-WYT",
        "colab_type": "text"
      },
      "source": [
        "Посмотрим на матрицу ошибок и точность предсказаний:"
      ]
    },
    {
      "cell_type": "code",
      "metadata": {
        "id": "ldUenesx-UY7",
        "colab_type": "code",
        "outputId": "ef1d0127-2a1e-462a-b5c3-67e35d1ec77f",
        "colab": {
          "base_uri": "https://localhost:8080/",
          "height": 272
        }
      },
      "source": [
        "print('Confusion matrix:\\n')\n",
        "classes = [3,4,5,6,7,8]\n",
        "total_classes = len(classes)\n",
        "level_labels = [total_classes*[0], list(range(total_classes))]\n",
        "\n",
        "cm = metrics.confusion_matrix(y_test, nb_predict, labels=classes)\n",
        "cm_frame = pd.DataFrame(data=cm, columns=pd.MultiIndex(levels=[['Predicted:'], classes], labels=level_labels),index=pd.MultiIndex(levels=[['Actual:'], classes], labels=level_labels))\n",
        "print(cm_frame)\n",
        "\n",
        "nb_acc_score = accuracy_score(y_test, nb_predict)\n",
        "print('-'*60)\n",
        "print('Accuracy: ',nb_acc_score)\n",
        "print('-'*60)"
      ],
      "execution_count": 0,
      "outputs": [
        {
          "output_type": "stream",
          "text": [
            "Confusion matrix:\n",
            "\n",
            "          Predicted:                  \n",
            "                   3  4   5   6   7  8\n",
            "Actual: 3          0  0   1   1   0  0\n",
            "        4          0  0   7   3   0  1\n",
            "        5          2  5  85  35   8  0\n",
            "        6          0  3  31  73  29  6\n",
            "        7          1  0   0   9  15  2\n",
            "        8          0  0   0   0   3  0\n"
          ],
          "name": "stdout"
        },
        {
          "output_type": "stream",
          "text": [
            "/usr/local/lib/python3.6/dist-packages/ipykernel_launcher.py:7: FutureWarning: the 'labels' keyword is deprecated, use 'codes' instead\n",
            "  import sys\n"
          ],
          "name": "stderr"
        },
        {
          "output_type": "stream",
          "text": [
            "------------------------------------------------------------\n",
            "Accuracy:  0.540625\n",
            "------------------------------------------------------------\n"
          ],
          "name": "stdout"
        }
      ]
    },
    {
      "cell_type": "markdown",
      "metadata": {
        "id": "3IaYYragzy8M",
        "colab_type": "text"
      },
      "source": [
        "\n",
        "\n",
        "---\n",
        "\n"
      ]
    },
    {
      "cell_type": "markdown",
      "metadata": {
        "id": "09q2ILtagYjw",
        "colab_type": "text"
      },
      "source": [
        "## Подведение итогов"
      ]
    },
    {
      "cell_type": "markdown",
      "metadata": {
        "id": "kzSC0HlGgoRh",
        "colab_type": "text"
      },
      "source": [
        "Составим сводную таблицу четырех использованных методов и точности предсказаний:"
      ]
    },
    {
      "cell_type": "code",
      "metadata": {
        "id": "y3MjFNA7fGxe",
        "colab_type": "code",
        "outputId": "9a8c51ce-dc6c-42f6-8804-3c4b7f2d7c26",
        "colab": {
          "base_uri": "https://localhost:8080/",
          "height": 204
        }
      },
      "source": [
        "conclusion = pd.DataFrame({'Модель': [\"Support Vector Machine\",\"Logistic Regression\",\"Decision Tree\", \"Random Forest\", \"Naive Bayes\"],\n",
        "                           'Точность': [svc_acc_score,lr_acc_score,dt_acc_score,rf_acc_score,nb_acc_score]})\n",
        "conclusion"
      ],
      "execution_count": 0,
      "outputs": [
        {
          "output_type": "execute_result",
          "data": {
            "text/html": [
              "<div>\n",
              "<style scoped>\n",
              "    .dataframe tbody tr th:only-of-type {\n",
              "        vertical-align: middle;\n",
              "    }\n",
              "\n",
              "    .dataframe tbody tr th {\n",
              "        vertical-align: top;\n",
              "    }\n",
              "\n",
              "    .dataframe thead th {\n",
              "        text-align: right;\n",
              "    }\n",
              "</style>\n",
              "<table border=\"1\" class=\"dataframe\">\n",
              "  <thead>\n",
              "    <tr style=\"text-align: right;\">\n",
              "      <th></th>\n",
              "      <th>Модель</th>\n",
              "      <th>Точность</th>\n",
              "    </tr>\n",
              "  </thead>\n",
              "  <tbody>\n",
              "    <tr>\n",
              "      <th>0</th>\n",
              "      <td>Support Vector Machine</td>\n",
              "      <td>0.643750</td>\n",
              "    </tr>\n",
              "    <tr>\n",
              "      <th>1</th>\n",
              "      <td>Logistic Regression</td>\n",
              "      <td>0.628125</td>\n",
              "    </tr>\n",
              "    <tr>\n",
              "      <th>2</th>\n",
              "      <td>Decision Tree</td>\n",
              "      <td>0.653125</td>\n",
              "    </tr>\n",
              "    <tr>\n",
              "      <th>3</th>\n",
              "      <td>Random Forest</td>\n",
              "      <td>0.715625</td>\n",
              "    </tr>\n",
              "    <tr>\n",
              "      <th>4</th>\n",
              "      <td>Naive Bayes</td>\n",
              "      <td>0.540625</td>\n",
              "    </tr>\n",
              "  </tbody>\n",
              "</table>\n",
              "</div>"
            ],
            "text/plain": [
              "                   Модель  Точность\n",
              "0  Support Vector Machine  0.643750\n",
              "1     Logistic Regression  0.628125\n",
              "2           Decision Tree  0.653125\n",
              "3           Random Forest  0.715625\n",
              "4             Naive Bayes  0.540625"
            ]
          },
          "metadata": {
            "tags": []
          },
          "execution_count": 97
        }
      ]
    },
    {
      "cell_type": "markdown",
      "metadata": {
        "id": "jHIgyHBZgeXC",
        "colab_type": "text"
      },
      "source": [
        "ВЫВОД: наиболее точные предсказания дают методы Decision Tree и Random Forest."
      ]
    },
    {
      "cell_type": "markdown",
      "metadata": {
        "id": "X7PQv4SK13oD",
        "colab_type": "text"
      },
      "source": [
        "\n",
        "\n",
        "---\n",
        "\n"
      ]
    }
  ]
}